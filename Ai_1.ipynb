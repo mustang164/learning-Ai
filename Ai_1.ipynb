{
  "nbformat": 4,
  "nbformat_minor": 0,
  "metadata": {
    "colab": {
      "provenance": [],
      "authorship_tag": "ABX9TyPYP17tEYtF6gSOmVvh6Tpt",
      "include_colab_link": true
    },
    "kernelspec": {
      "name": "python3",
      "display_name": "Python 3"
    },
    "language_info": {
      "name": "python"
    }
  },
  "cells": [
    {
      "cell_type": "markdown",
      "metadata": {
        "id": "view-in-github",
        "colab_type": "text"
      },
      "source": [
        "<a href=\"https://colab.research.google.com/github/mustang164/learning-Ai/blob/main/Ai_1.ipynb\" target=\"_parent\"><img src=\"https://colab.research.google.com/assets/colab-badge.svg\" alt=\"Open In Colab\"/></a>"
      ]
    },
    {
      "cell_type": "code",
      "execution_count": 1,
      "metadata": {
        "colab": {
          "base_uri": "https://localhost:8080/"
        },
        "id": "zsfRWf7PP7J3",
        "outputId": "ea8841e3-863f-4111-98f1-b59b37e31a04"
      },
      "outputs": [
        {
          "output_type": "stream",
          "name": "stdout",
          "text": [
            "                    John       Doe                 120 jefferson st.  \\\n",
            "0                   Jack  McGinnis                      220 hobo Av.   \n",
            "1          John \"Da Man\"    Repici                 120 Jefferson St.   \n",
            "2                Stephen     Tyler  7452 Terrace \"At the Plaza\" road   \n",
            "3                    NaN  Blankman                               NaN   \n",
            "4  Joan \"the bone\", Anne       Jet               9th, at Terrace plc   \n",
            "\n",
            "     Riverside   NJ   08075  \n",
            "0        Phila   PA    9119  \n",
            "1    Riverside   NJ    8075  \n",
            "2     SomeTown   SD   91234  \n",
            "3     SomeTown   SD     298  \n",
            "4  Desert City   CO     123  \n"
          ]
        }
      ],
      "source": [
        "import pandas as pd\n",
        "x= pd.read_csv(\"addresses.csv\")\n",
        "print(x)"
      ]
    },
    {
      "cell_type": "code",
      "source": [],
      "metadata": {
        "id": "kZL2KvQ3QdcN"
      },
      "execution_count": null,
      "outputs": []
    }
  ]
}