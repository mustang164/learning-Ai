{
  "nbformat": 4,
  "nbformat_minor": 0,
  "metadata": {
    "colab": {
      "provenance": [],
      "authorship_tag": "ABX9TyM5FfDD3UQs4d3p5BAT7QV2",
      "include_colab_link": true
    },
    "kernelspec": {
      "name": "python3",
      "display_name": "Python 3"
    },
    "language_info": {
      "name": "python"
    }
  },
  "cells": [
    {
      "cell_type": "markdown",
      "metadata": {
        "id": "view-in-github",
        "colab_type": "text"
      },
      "source": [
        "<a href=\"https://colab.research.google.com/github/mustang164/learning-Ai/blob/main/Ai_1.ipynb\" target=\"_parent\"><img src=\"https://colab.research.google.com/assets/colab-badge.svg\" alt=\"Open In Colab\"/></a>"
      ]
    },
    {
      "cell_type": "code",
      "execution_count": 1,
      "metadata": {
        "colab": {
          "base_uri": "https://localhost:8080/"
        },
        "id": "zsfRWf7PP7J3",
        "outputId": "ea8841e3-863f-4111-98f1-b59b37e31a04"
      },
      "outputs": [
        {
          "output_type": "stream",
          "name": "stdout",
          "text": [
            "                    John       Doe                 120 jefferson st.  \\\n",
            "0                   Jack  McGinnis                      220 hobo Av.   \n",
            "1          John \"Da Man\"    Repici                 120 Jefferson St.   \n",
            "2                Stephen     Tyler  7452 Terrace \"At the Plaza\" road   \n",
            "3                    NaN  Blankman                               NaN   \n",
            "4  Joan \"the bone\", Anne       Jet               9th, at Terrace plc   \n",
            "\n",
            "     Riverside   NJ   08075  \n",
            "0        Phila   PA    9119  \n",
            "1    Riverside   NJ    8075  \n",
            "2     SomeTown   SD   91234  \n",
            "3     SomeTown   SD     298  \n",
            "4  Desert City   CO     123  \n"
          ]
        }
      ],
      "source": [
        "import pandas as pd\n",
        "x= pd.read_csv(\"addresses.csv\")\n",
        "print(x)"
      ]
    },
    {
      "cell_type": "code",
      "source": [
        "import pandas as pd\n",
        "data= pd.read_csv(\"Salary_Data.csv\")\n",
        "print(data)"
      ],
      "metadata": {
        "colab": {
          "base_uri": "https://localhost:8080/"
        },
        "id": "kZL2KvQ3QdcN",
        "outputId": "b53ab606-3d70-4a06-e37b-ef8ec06fc4a9"
      },
      "execution_count": 3,
      "outputs": [
        {
          "output_type": "stream",
          "name": "stdout",
          "text": [
            "    YearsExperience    Salary\n",
            "0               1.1   39343.0\n",
            "1               1.3   46205.0\n",
            "2               1.5   37731.0\n",
            "3               2.0   43525.0\n",
            "4               2.2   39891.0\n",
            "5               2.9   56642.0\n",
            "6               3.0   60150.0\n",
            "7               3.2   54445.0\n",
            "8               3.2   64445.0\n",
            "9               3.7   57189.0\n",
            "10              3.9   63218.0\n",
            "11              4.0   55794.0\n",
            "12              4.0   56957.0\n",
            "13              4.1   57081.0\n",
            "14              4.5   61111.0\n",
            "15              4.9   67938.0\n",
            "16              5.1   66029.0\n",
            "17              5.3   83088.0\n",
            "18              5.9   81363.0\n",
            "19              6.0   93940.0\n",
            "20              6.8   91738.0\n",
            "21              7.1   98273.0\n",
            "22              7.9  101302.0\n",
            "23              8.2  113812.0\n",
            "24              8.7  109431.0\n",
            "25              9.0  105582.0\n",
            "26              9.5  116969.0\n",
            "27              9.6  112635.0\n",
            "28             10.3  122391.0\n",
            "29             10.5  121872.0\n"
          ]
        }
      ]
    },
    {
      "cell_type": "code",
      "source": [
        "x=data.drop('Salary', axis=1)\n",
        "y=data['Salary']\n",
        "from sklearn.model_selection import train_test_split as tts\n",
        "from sklearn.linear_model import LogisticRegression as lr\n",
        "x_train,x_test,y_train,y_test=tts(x,y)\n",
        "print(x_train)\n",
        "print(y_train)"
      ],
      "metadata": {
        "colab": {
          "base_uri": "https://localhost:8080/"
        },
        "id": "jx3r9lG7UlJi",
        "outputId": "8ec49c49-d058-4e68-c383-89545c0e6ac0"
      },
      "execution_count": 16,
      "outputs": [
        {
          "output_type": "stream",
          "name": "stdout",
          "text": [
            "    YearsExperience\n",
            "22              7.9\n",
            "1               1.3\n",
            "21              7.1\n",
            "2               1.5\n",
            "24              8.7\n",
            "14              4.5\n",
            "0               1.1\n",
            "12              4.0\n",
            "29             10.5\n",
            "15              4.9\n",
            "5               2.9\n",
            "18              5.9\n",
            "4               2.2\n",
            "28             10.3\n",
            "19              6.0\n",
            "25              9.0\n",
            "10              3.9\n",
            "27              9.6\n",
            "7               3.2\n",
            "9               3.7\n",
            "13              4.1\n",
            "3               2.0\n",
            "22    101302.0\n",
            "1      46205.0\n",
            "21     98273.0\n",
            "2      37731.0\n",
            "24    109431.0\n",
            "14     61111.0\n",
            "0      39343.0\n",
            "12     56957.0\n",
            "29    121872.0\n",
            "15     67938.0\n",
            "5      56642.0\n",
            "18     81363.0\n",
            "4      39891.0\n",
            "28    122391.0\n",
            "19     93940.0\n",
            "25    105582.0\n",
            "10     63218.0\n",
            "27    112635.0\n",
            "7      54445.0\n",
            "9      57189.0\n",
            "13     57081.0\n",
            "3      43525.0\n",
            "Name: Salary, dtype: float64\n"
          ]
        }
      ]
    },
    {
      "cell_type": "code",
      "source": [
        "print(\"traing data\")\n",
        "model=lr(max_iter=1000)\n",
        "print(\"Prediction of :\",x_test)\n",
        "model.fit(x_train,y_train)\n",
        "\n",
        "y_pred=model.predict(x_test)\n",
        "print(y_pred)"
      ],
      "metadata": {
        "colab": {
          "base_uri": "https://localhost:8080/"
        },
        "id": "hzevCu-vVVLH",
        "outputId": "111ced8a-d65b-4d9b-a95d-e967f203d4ba"
      },
      "execution_count": 18,
      "outputs": [
        {
          "output_type": "stream",
          "name": "stdout",
          "text": [
            "traing data\n",
            "Prediction of :     YearsExperience\n",
            "26              9.5\n",
            "20              6.8\n",
            "11              4.0\n",
            "16              5.1\n",
            "8               3.2\n",
            "6               3.0\n",
            "23              8.2\n",
            "17              5.3\n",
            "[121872.  98273.  63218.  67938.  56642.  39891. 105582.  81363.]\n"
          ]
        }
      ]
    },
    {
      "cell_type": "code",
      "source": [],
      "metadata": {
        "id": "Ro1nZxKvYRpz"
      },
      "execution_count": null,
      "outputs": []
    },
    {
      "cell_type": "code",
      "source": [],
      "metadata": {
        "id": "yWijZLHsYRlq"
      },
      "execution_count": null,
      "outputs": []
    }
  ]
}