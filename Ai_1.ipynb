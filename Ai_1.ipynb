{
  "nbformat": 4,
  "nbformat_minor": 0,
  "metadata": {
    "colab": {
      "provenance": [],
      "authorship_tag": "ABX9TyMrDgNqB40zzLYiGhNyfuGx",
      "include_colab_link": true
    },
    "kernelspec": {
      "name": "python3",
      "display_name": "Python 3"
    },
    "language_info": {
      "name": "python"
    }
  },
  "cells": [
    {
      "cell_type": "markdown",
      "metadata": {
        "id": "view-in-github",
        "colab_type": "text"
      },
      "source": [
        "<a href=\"https://colab.research.google.com/github/mustang164/learning-Ai/blob/main/Ai_1.ipynb\" target=\"_parent\"><img src=\"https://colab.research.google.com/assets/colab-badge.svg\" alt=\"Open In Colab\"/></a>"
      ]
    },
    {
      "cell_type": "code",
      "execution_count": null,
      "metadata": {
        "colab": {
          "base_uri": "https://localhost:8080/"
        },
        "id": "zsfRWf7PP7J3",
        "outputId": "ea8841e3-863f-4111-98f1-b59b37e31a04"
      },
      "outputs": [
        {
          "output_type": "stream",
          "name": "stdout",
          "text": [
            "                    John       Doe                 120 jefferson st.  \\\n",
            "0                   Jack  McGinnis                      220 hobo Av.   \n",
            "1          John \"Da Man\"    Repici                 120 Jefferson St.   \n",
            "2                Stephen     Tyler  7452 Terrace \"At the Plaza\" road   \n",
            "3                    NaN  Blankman                               NaN   \n",
            "4  Joan \"the bone\", Anne       Jet               9th, at Terrace plc   \n",
            "\n",
            "     Riverside   NJ   08075  \n",
            "0        Phila   PA    9119  \n",
            "1    Riverside   NJ    8075  \n",
            "2     SomeTown   SD   91234  \n",
            "3     SomeTown   SD     298  \n",
            "4  Desert City   CO     123  \n"
          ]
        }
      ],
      "source": [
        "import pandas as pd\n",
        "x= pd.read_csv(\"addresses.csv\")\n",
        "print(x)"
      ]
    },
    {
      "cell_type": "code",
      "source": [
        "import pandas as pd\n",
        "data= pd.read_csv(\"Salary_Data.csv\")\n",
        "print(data)"
      ],
      "metadata": {
        "colab": {
          "base_uri": "https://localhost:8080/"
        },
        "id": "kZL2KvQ3QdcN",
        "outputId": "b53ab606-3d70-4a06-e37b-ef8ec06fc4a9"
      },
      "execution_count": null,
      "outputs": [
        {
          "output_type": "stream",
          "name": "stdout",
          "text": [
            "    YearsExperience    Salary\n",
            "0               1.1   39343.0\n",
            "1               1.3   46205.0\n",
            "2               1.5   37731.0\n",
            "3               2.0   43525.0\n",
            "4               2.2   39891.0\n",
            "5               2.9   56642.0\n",
            "6               3.0   60150.0\n",
            "7               3.2   54445.0\n",
            "8               3.2   64445.0\n",
            "9               3.7   57189.0\n",
            "10              3.9   63218.0\n",
            "11              4.0   55794.0\n",
            "12              4.0   56957.0\n",
            "13              4.1   57081.0\n",
            "14              4.5   61111.0\n",
            "15              4.9   67938.0\n",
            "16              5.1   66029.0\n",
            "17              5.3   83088.0\n",
            "18              5.9   81363.0\n",
            "19              6.0   93940.0\n",
            "20              6.8   91738.0\n",
            "21              7.1   98273.0\n",
            "22              7.9  101302.0\n",
            "23              8.2  113812.0\n",
            "24              8.7  109431.0\n",
            "25              9.0  105582.0\n",
            "26              9.5  116969.0\n",
            "27              9.6  112635.0\n",
            "28             10.3  122391.0\n",
            "29             10.5  121872.0\n"
          ]
        }
      ]
    },
    {
      "cell_type": "code",
      "source": [
        "x=data.drop('Salary', axis=1)\n",
        "y=data['Salary']\n",
        "from sklearn.model_selection import train_test_split as tts\n",
        "from sklearn.linear_model import LogisticRegression as lr\n",
        "x_train,x_test,y_train,y_test=tts(x,y)\n",
        "print(x_train)\n",
        "print(y_train)"
      ],
      "metadata": {
        "colab": {
          "base_uri": "https://localhost:8080/"
        },
        "id": "jx3r9lG7UlJi",
        "outputId": "8ec49c49-d058-4e68-c383-89545c0e6ac0"
      },
      "execution_count": null,
      "outputs": [
        {
          "output_type": "stream",
          "name": "stdout",
          "text": [
            "    YearsExperience\n",
            "22              7.9\n",
            "1               1.3\n",
            "21              7.1\n",
            "2               1.5\n",
            "24              8.7\n",
            "14              4.5\n",
            "0               1.1\n",
            "12              4.0\n",
            "29             10.5\n",
            "15              4.9\n",
            "5               2.9\n",
            "18              5.9\n",
            "4               2.2\n",
            "28             10.3\n",
            "19              6.0\n",
            "25              9.0\n",
            "10              3.9\n",
            "27              9.6\n",
            "7               3.2\n",
            "9               3.7\n",
            "13              4.1\n",
            "3               2.0\n",
            "22    101302.0\n",
            "1      46205.0\n",
            "21     98273.0\n",
            "2      37731.0\n",
            "24    109431.0\n",
            "14     61111.0\n",
            "0      39343.0\n",
            "12     56957.0\n",
            "29    121872.0\n",
            "15     67938.0\n",
            "5      56642.0\n",
            "18     81363.0\n",
            "4      39891.0\n",
            "28    122391.0\n",
            "19     93940.0\n",
            "25    105582.0\n",
            "10     63218.0\n",
            "27    112635.0\n",
            "7      54445.0\n",
            "9      57189.0\n",
            "13     57081.0\n",
            "3      43525.0\n",
            "Name: Salary, dtype: float64\n"
          ]
        }
      ]
    },
    {
      "cell_type": "code",
      "source": [
        "print(\"traing data\")\n",
        "model=lr(max_iter=1000)\n",
        "print(\"Prediction of :\",x_test)\n",
        "model.fit(x_train,y_train)\n",
        "\n",
        "y_pred=model.predict(x_test)\n",
        "print(y_pred)"
      ],
      "metadata": {
        "colab": {
          "base_uri": "https://localhost:8080/"
        },
        "id": "hzevCu-vVVLH",
        "outputId": "111ced8a-d65b-4d9b-a95d-e967f203d4ba"
      },
      "execution_count": null,
      "outputs": [
        {
          "output_type": "stream",
          "name": "stdout",
          "text": [
            "traing data\n",
            "Prediction of :     YearsExperience\n",
            "26              9.5\n",
            "20              6.8\n",
            "11              4.0\n",
            "16              5.1\n",
            "8               3.2\n",
            "6               3.0\n",
            "23              8.2\n",
            "17              5.3\n",
            "[121872.  98273.  63218.  67938.  56642.  39891. 105582.  81363.]\n"
          ]
        }
      ]
    },
    {
      "cell_type": "code",
      "source": [
        "###################"
      ],
      "metadata": {
        "id": "Ro1nZxKvYRpz"
      },
      "execution_count": null,
      "outputs": []
    },
    {
      "cell_type": "code",
      "source": [
        "import pandas as pd\n",
        "data=None\n",
        "data=pd.read_csv(\"Wholesale customers data.csv\")"
      ],
      "metadata": {
        "id": "yWijZLHsYRlq"
      },
      "execution_count": 3,
      "outputs": []
    },
    {
      "cell_type": "code",
      "source": [
        "print(data)"
      ],
      "metadata": {
        "colab": {
          "base_uri": "https://localhost:8080/"
        },
        "id": "XZ6fPYMfKXm6",
        "outputId": "66ebc7a5-28f8-4c96-ea71-a8fd8c6244fe"
      },
      "execution_count": 4,
      "outputs": [
        {
          "output_type": "stream",
          "name": "stdout",
          "text": [
            "     Channel  Region  Fresh   Milk  Grocery  Frozen  Detergents_Paper  \\\n",
            "0          2       3  12669   9656     7561     214              2674   \n",
            "1          2       3   7057   9810     9568    1762              3293   \n",
            "2          2       3   6353   8808     7684    2405              3516   \n",
            "3          1       3  13265   1196     4221    6404               507   \n",
            "4          2       3  22615   5410     7198    3915              1777   \n",
            "..       ...     ...    ...    ...      ...     ...               ...   \n",
            "435        1       3  29703  12051    16027   13135               182   \n",
            "436        1       3  39228   1431      764    4510                93   \n",
            "437        2       3  14531  15488    30243     437             14841   \n",
            "438        1       3  10290   1981     2232    1038               168   \n",
            "439        1       3   2787   1698     2510      65               477   \n",
            "\n",
            "     Delicassen  \n",
            "0          1338  \n",
            "1          1776  \n",
            "2          7844  \n",
            "3          1788  \n",
            "4          5185  \n",
            "..          ...  \n",
            "435        2204  \n",
            "436        2346  \n",
            "437        1867  \n",
            "438        2125  \n",
            "439          52  \n",
            "\n",
            "[440 rows x 8 columns]\n"
          ]
        }
      ]
    },
    {
      "cell_type": "code",
      "source": [
        "#unsupervised learning- Cluster technique - Kmeans\n",
        "from sklearn.datasets import load_iris\n",
        "from sklearn.cluster import KMeans\n",
        "iris_data = load_iris()\n",
        "x = iris_data.data\n",
        "#print(X)\n",
        "\n",
        "kmeans = KMeans(n_clusters=3)\n",
        "kmeans.fit(x)\n",
        "\n",
        "labels=kmeans.labels_\n",
        "centers=kmeans.cluster_centers_\n",
        "print(labels)\n",
        "print(centers)"
      ],
      "metadata": {
        "colab": {
          "base_uri": "https://localhost:8080/"
        },
        "id": "-RTL-h1GK5OE",
        "outputId": "98a41482-53c8-4d05-bb2d-0cae105d2c3a"
      },
      "execution_count": 37,
      "outputs": [
        {
          "output_type": "stream",
          "name": "stdout",
          "text": [
            "[1 1 1 1 1 1 1 1 1 1 1 1 1 1 1 1 1 1 1 1 1 1 1 1 1 1 1 1 1 1 1 1 1 1 1 1 1\n",
            " 1 1 1 1 1 1 1 1 1 1 1 1 1 0 0 2 0 0 0 0 0 0 0 0 0 0 0 0 0 0 0 0 0 0 0 0 0\n",
            " 0 0 0 2 0 0 0 0 0 0 0 0 0 0 0 0 0 0 0 0 0 0 0 0 0 0 2 0 2 2 2 2 0 2 2 2 2\n",
            " 2 2 0 0 2 2 2 2 0 2 0 2 0 2 2 0 0 2 2 2 2 2 0 2 2 2 2 0 2 2 2 0 2 2 2 0 2\n",
            " 2 0]\n",
            "[[5.9016129  2.7483871  4.39354839 1.43387097]\n",
            " [5.006      3.428      1.462      0.246     ]\n",
            " [6.85       3.07368421 5.74210526 2.07105263]]\n"
          ]
        },
        {
          "output_type": "stream",
          "name": "stderr",
          "text": [
            "/usr/local/lib/python3.10/dist-packages/sklearn/cluster/_kmeans.py:870: FutureWarning: The default value of `n_init` will change from 10 to 'auto' in 1.4. Set the value of `n_init` explicitly to suppress the warning\n",
            "  warnings.warn(\n"
          ]
        }
      ]
    },
    {
      "cell_type": "code",
      "source": [],
      "metadata": {
        "id": "sVepvgB3MaLz"
      },
      "execution_count": 31,
      "outputs": []
    },
    {
      "cell_type": "code",
      "source": [],
      "metadata": {
        "id": "Vb7cBjsVN1eF"
      },
      "execution_count": null,
      "outputs": []
    }
  ]
}